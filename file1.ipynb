{
 "cells": [
  {
   "cell_type": "code",
   "execution_count": 2,
   "metadata": {},
   "outputs": [],
   "source": [
    "import os\n",
    "import json\n",
    "import pandas as pd\n",
    "import ujson as json\n",
    "import time\n",
    "import ijson\n",
    "from mpi4py import MPI\n",
    "import re"
   ]
  },
  {
   "cell_type": "code",
   "execution_count": 3,
   "metadata": {},
   "outputs": [
    {
     "name": "stdout",
     "output_type": "stream",
     "text": [
      "63201091459\n",
      "166476331\n"
     ]
    }
   ],
   "source": [
    "comm = MPI.COMM_WORLD\n",
    "# rank = comm.Get_rank()\n",
    "# size = comm.Get_size()\n",
    "f=open('mnt/ext100/twitter-huge.json', encoding='utf-8')\n",
    "g=open('twitter-place-data.json','w',encoding='utf-8')\n",
    "g.write('[\\n')\n",
    "f.seek(0,os.SEEK_END)\n",
    "size=f.tell()\n",
    "print(size)\n",
    "f.seek(0)\n",
    "metadata=f.readline()\n",
    "# print(metadata)\n",
    "nrows=int(metadata.split(':')[1].split(',')[0])\n",
    "print(nrows)\n",
    "nrows=nrows\n",
    "# startrow=rank*chunkrows\n",
    "# endrow=(rank+1)*chunkrows\n",
    "nrows=nrows-1\n",
    "try:\n",
    "    for i in range(nrows):\n",
    "        data=f.readline()\n",
    "        try:\n",
    "            data=json.loads(data[:-2])\n",
    "        except:\n",
    "            print(f'Error in row and location:{i} {f.tell()}')\n",
    "            if f.tell()>=size:\n",
    "                break\n",
    "        # print(data['doc'].keys())\n",
    "        else:\n",
    "            if 'includes' in data['doc'].keys():\n",
    "                last=data\n",
    "                # pass\n",
    "                # print(data)\n",
    "                g.write(json.dumps(data)+',\\n')\n",
    "    # for key,value in data.items():\n",
    "    #     print(key, value)\n",
    "except:\n",
    "    print(f'File at location {f.tell()}')\n",
    "g.write(json.dumps(last)+'\\n')\n",
    "g.write(']')\n",
    "g.close()"
   ]
  },
  {
   "cell_type": "code",
   "execution_count": 32,
   "metadata": {},
   "outputs": [
    {
     "name": "stdout",
     "output_type": "stream",
     "text": [
      "63201091459\n",
      "nburyWeather @baxlex @perthovalman @ManjitK6987 @ImTheOnlyAstro @RKMac65 @TrixieBelden_ @drstip @2017Ferret @paulmp @speedbird020 @Richard_Kreider @Sparrow_65 @sivideoaviation @Barnsy_Lisa @BigV2011WCE @wiccewicker @Rob_lebob @TheWAWG @aussie_robbob @WendyBirdOZ @N8aviation @perthobs #Scoot Have A New Pokémon Themed Special Livery #Boeing 787 (9V-OJJ) The Plane Was Painted In The New Livery In July. It Last Visited #Perth On The 27th Of June And Hasn't Flown Since The 28th Of June But Should Be Back In Service Soon. #AvGeek #PerthAirport https://t.co/XFQEBuEdeq\",\"sentiment\":0},\"matching_rules\":[{\"id\":\"1557026228036861952\",\"tag\":\"\"}]}},\n",
      "\n",
      "{\"id\":\"1557348633275953152\",\"key\":[2022,8,10,\"988404415789846530\",\"986092014\",\"1557348633275953152\"],\"value\":{\"tags\":\"Scoot|Boeing|AvGeek|PerthAirport|PlaneSpotting\",\"tokens\":\"Here|The|New|787|OJJ\"},\"doc\":{\"_id\":\"1557348633275953152\",\"_rev\":\"1-7ae4b92ab7adffead46527d169131d8d\",\"data\":{\"author_id\":\"986092014\",\"context_annotations\":[{\"domain\":{\"id\":\"45\",\"name\":\"Brand Vertical\",\"description\":\"Top level entities that describe a Brands industry\"},\"entity\":{\"id\":\"781974597302226944\",\"name\":\"Transportation\"}},{\"domain\":{\"id\":\"45\",\"name\":\"Brand Vertical\",\"description\":\"Top level entities that describe a Brands industry\"},\"entity\":{\"id\":\"781974597310615553\",\"name\":\"Entertainment\"}},{\"domain\":{\"id\":\"46\",\"name\":\"Brand Category\",\"description\":\"Categories within Brand Verticals that narrow down the scope of Brands\"},\"entity\":{\"id\":\"781974597218340864\",\"name\":\"Video Games\"}},{\"domain\":{\"id\":\"47\",\"name\":\"Brand\",\"description\":\"Brands and Companies\"},\"entity\":{\"id\":\"10043043119\",\"name\":\"Boeing\"}},{\"domain\":{\"id\":\"65\",\"name\":\"Interests and Hobbies Vertical\",\"description\":\"Top level interests and hobbies groupings, like Food or Travel\"},\"entity\":{\"id\":\"781974596148793345\",\"name\":\"Business & finance\"}},{\"domain\":{\"id\":\"65\",\"name\":\"Interests and Hobbies Vertical\",\"description\":\"Top level interests and hobbies groupings, like Food or Travel\"},\"entity\":{\"id\":\"781974596148793345\",\"name\":\"Business & finance\"}},{\"domain\":{\"id\":\"66\",\"name\":\"Interests and Hobbies Category\",\"description\":\"A grouping of interests and hobbies entities, like Novelty Food or Destinations\"},\"entity\":{\"id\":\"857878257630195712\",\"name\":\"Government\",\"description\":\"Government\"}},{\"domain\":{\"id\":\"130\",\"name\":\"Multimedia Franchise\",\"description\":\"Franchises which span multiple forms of media like 'Harry Potter'\"},\"entity\":{\"id\":\"10045599546\",\"name\":\"Pokémon\",\"description\":\"This entity includes all conversation about the franchise, as well as any individual installments in the series, if applicable. **NOTE: Annotations redirected to domain 130 ONLY on 8/7/18.\"}},{\"domain\":{\"id\":\"131\",\"name\":\"Unified Twitter Taxonomy\",\"description\":\"A taxonomy view into the Semantic Core knowledge graph\"},\"entity\":{\"id\":\"10045599546\",\"name\":\"Pokémon\",\"description\":\"This entity includes all conversation about the franchise, as well as any individual installments in the series, if applicable. **NOTE: Annotations redirected to domain 130 ONLY on 8/7/18.\"}},{\"domain\":{\"id\":\"131\",\"name\":\"Unified Twitter Taxonomy\",\"description\":\"A taxonomy view into the Semantic Core knowledge graph\"},\"entity\":{\"id\":\"839544274442051584\",\"name\":\"Entertainment\"}},{\"domain\":{\"id\":\"131\",\"name\":\"Unified Twitter Taxonomy\",\"description\":\"A taxonomy view into the Semantic Core knowledge graph\"},\"entity\":{\"id\":\"847527650667094017\",\"name\":\"Gaming\",\"description\":\"Gaming\"}},{\"domain\":{\"id\":\"131\",\"name\":\"Unified Twitter Taxonomy\",\"description\":\"A taxonomy view into the Semantic Core knowledge graph\"},\"entity\":{\"id\":\"1254866831413657601\",\"name\":\"Aviation\"}},{\"domain\":{\"id\":\"131\",\"name\":\"Unified Twitter Taxonomy\",\"description\":\"A taxonomy view into the Semantic Core knowledge graph\"},\"entity\":{\"id\":\"1278093262406815744\",\"name\":\"Fields of study\"}},{\"domain\":{\"id\":\"131\",\"name\":\"Unified Twitter Taxonomy\",\"description\":\"A taxonomy view into the Semantic Core knowledge graph\"},\"entity\":{\"id\":\"1313615805448286211\",\"name\":\"Pokemon anime -1\",\"description\":\"Test entity\"}},{\"domain\":{\"id\":\"131\",\"name\":\"Unified Twitter Taxonomy\",\"description\":\"A taxonomy view into the Semantic Core knowledge graph\"},\"entity\":{\"id\":\"1313620468662820865\",\"name\":\"Pokemon anime -2\",\"description\":\"Test entity\"}},{\"domain\":{\"id\":\"131\",\"name\":\"Unified Twitter Taxonomy\",\"description\":\"A taxonomy view into the Semantic Core knowledge graph\"},\"entity\":{\"id\":\"1313620684333957120\",\"name\":\"Pokemon video games -1\",\"description\":\"Test entity\"}},{\"domain\":{\"id\":\"131\",\"name\":\"Unified Twitter Taxonomy\",\"description\":\"A taxonomy view into the Semantic Core knowledge graph\"},\"entity\":{\"id\":\"1313621917903937537\",\"name\":\"Pokemon video games -2\",\"description\":\"Test entity\"}},{\"domain\":{\"id\":\"131\",\"name\":\"Unified Twitter Taxonomy\",\"description\":\"A taxonomy view into the Semantic Core knowledge graph\"},\"entity\":{\"id\":\"1313622776306036736\",\"name\":\"Pokemon trading card games -2\",\"description\":\"Test entity\"}},{\"domain\":{\"id\":\"131\",\"name\":\"Unified Twitter Taxonomy\",\"description\":\"A taxonomy view into the Semantic Core knowledge graph\"},\"entity\":{\"id\":\"1367691707467264001\",\"name\":\"Pokemon anime -3\",\"description\":\"Test entity\"}},{\"domain\":{\"id\":\"131\",\"name\":\"Unified Twitter Taxonomy\",\"description\":\"A taxonomy view into the Semantic Core knowledge graph\"},\"entity\":{\"id\":\"1367692329880932352\",\"name\":\"Pokemon video games -3\",\"description\":\"Test entity\"}},{\"domain\":{\"id\":\"131\",\"name\":\"Unified Twitter Taxonomy\",\"description\":\"A taxonomy view into the Semantic Core knowledge graph\"},\"entity\":{\"id\":\"1367694134878695426\",\"name\":\"Pokemon trading card games -3\",\"description\":\"Test entity\"}},{\"domain\":{\"id\":\"164\",\"name\":\"Fields of study\",\"description\":\"for all fields of study, e.g., futurology, microbiology \"},\"entity\":{\"id\":\"1278093262406815744\",\"name\":\"Fields of study\"}}],\"conversation_id\":\"988404415789846530\",\"created_at\":\"2022-08-10T12:50:22.000Z\",\"entities\":{\"annotations\":[{\"start\":311,\"end\":339,\"probability\":0.6493,\"type\":\"Product\",\"normalized_text\":\"Pokémon Themed Special Livery\"}],\"hashtags\":[{\"start\":304,\"end\":310,\"tag\":\"Scoot\"},{\"start\":341,\"end\":348,\"tag\":\"Boeing\"},{\"start\":368,\"end\":375,\"tag\":\"AvGeek\"},{\"start\":376,\"end\":389,\"tag\":\"PerthAirport\"},{\"start\":390,\"end\":404,\"tag\":\"PlaneSpotting\"}],\"mentions\":[{\"start\":0,\"end\":15,\"username\":\"BunburyWeather\",\"id\":\"2789736120\"},{\"start\":16,\"end\":23,\"username\":\"baxlex\",\"id\":\"179511988\"},{\"start\":24,\"end\":37,\"username\":\"perthovalman\",\"id\":\"42854780\"},{\"start\":38,\"end\":50,\"username\":\"ManjitK6987\",\"id\":\"775918317764644864\"},{\"start\":51,\"end\":66,\"username\":\"ImTheOnlyAstro\",\"id\":\"500446308\"},{\"start\":67,\"end\":75,\"username\":\"RKMac65\",\"id\":\"461533861\"},{\"start\":76,\"end\":90,\"username\":\"TrixieBelden_\",\"id\":\"1224956765474709504\"},{\"start\":91,\"end\":98,\"username\":\"drstip\",\"id\":\"258298063\"},{\"start\":99,\"end\":110,\"username\":\"2017Ferret\",\"id\":\"857774997724475392\"},{\"start\":111,\"end\":118,\"username\":\"paulmp\",\"id\":\"22744846\"},{\"start\":119,\"end\":132,\"username\":\"speedbird020\",\"id\":\"2762475846\"},{\"start\":133,\"end\":149,\"username\":\"Richard_Kreider\",\"id\":\"1674489318\"},{\"start\":150,\"end\":161,\"username\":\"Sparrow_65\",\"id\":\"125515218\"},{\"start\":162,\"end\":178,\"username\":\"sivideoaviation\",\"id\":\"948503715937361920\"},{\"start\":179,\"end\":191,\"username\":\"Barnsy_Lisa\",\"id\":\"29326170\"},{\"start\":192,\"end\":204,\"username\":\"BigV2011WCE\",\"id\":\"191761621\"},{\"start\":205,\"end\":217,\"username\":\"wiccewicker\",\"id\":\"827791722209898496\"},{\"start\":218,\"end\":228,\"username\":\"Rob_lebob\",\"id\":\"1211227922075246594\"},{\"start\":229,\"end\":237,\"username\":\"TheWAWG\",\"id\":\"176041453\"},{\"start\":238,\"end\":252,\"username\":\"aussie_robbob\",\"id\":\"4374920592\"},{\"start\":253,\"end\":265,\"username\":\"WendyBirdOZ\",\"id\":\"2195966832\"},{\"start\":266,\"end\":277,\"username\":\"N8aviation\",\"id\":\"1218828602810105857\"},{\"start\":278,\"end\":287,\"username\":\"perthobs\",\"id\":\"3229987878\"}],\"urls\":[{\"start\":405,\"end\":428,\"url\":\"https://t.co/eI4EmI8Xfn\",\"expanded_url\":\"https://nintendosoup.com/scoot-airline-reveals-pokemon-themed-airplane/\",\"display_url\":\"nintendosoup.com/scoot-airline-…\",\"images\":[{\"url\":\"https://pbs.twimg.com/news_img/1557348636962754561/shthbCof?format=jpg&name=orig\",\"width\":750,\"height\":500},{\"url\":\"https://pbs.twimg.com/news_img/1557348636962754561/shthbCof?format=jpg&name=150x150\",\"width\":150,\"height\":150}],\"status\":200,\"title\":\"Scoot Airline Reveals Pokemon Themed Airplane\",\"description\":\"Singaporean low-cost airline Scoot has revealed they will be rolling out its own Pokemon themed plane.Much like the Pokemon-themed planes in Japan, the Scoot Pokémon B787-9 Dreamliner will sport li\",\"unwound_url\":\"https://nintendosoup.com/scoot-airline-reveals-pokemon-themed-airplane/\"}]},\"geo\":{},\"lang\":\"en\",\"public_metrics\":{\"retweet_count\":0,\"reply_count\":0,\"like_count\":0,\"quote_count\":0},\"text\":\"@BunburyWeather @baxlex @perthovalman @ManjitK6987 @ImTheOnlyAstro @RKMac65 @TrixieBelden_ @drstip @2017Ferret @paulmp @speedbird020 @Richard_Kreider @Sparrow_65 @sivideoaviation @Barnsy_Lisa @BigV2011WCE @wiccewicker @Rob_lebob @TheWAWG @aussie_robbob @WendyBirdOZ @N8aviation @perthobs Here Is The New #Scoot Pokémon Themed Special Livery #Boeing 787 (9V-OJJ). ✈️🖌️ #AvGeek #PerthAirport #PlaneSpotting https://t.co/eI4EmI8Xfn\",\"sentiment\":0},\"matching_rules\":[{\"id\":\"1557026228036861952\",\"tag\":\"\"}]}},\n",
      "\n",
      "{\"id\":\"1557506665792311296\",\"key\":[2022,8,10,\"989770232242683905\",\"42390991\",\"1557506665792311296\"],\"value\":{\"tags\":\"\",\"tokens\":\"Ping\"},\"doc\":{\"_id\":\"1557506665792311296\",\"_rev\":\"1-b43bb5b65000f3ddd69999e204ea2ffc\",\"data\":{\"author_id\":\"42390991\",\"conversation_id\":\"989770232242683905\",\"created_at\":\"2022-08-10T23:18:20.000Z\",\"entities\":{\"mentions\":[{\"start\":0,\"end\":11,\"username\":\"whippletom\",\"id\":\"24873392\"},{\"start\":17,\"end\":29,\"username\":\"JustJenKing\",\"id\":\"300607450\"}]},\"geo\":{},\"lang\":\"en\",\"public_metrics\":{\"retweet_count\":0,\"reply_count\":0,\"like_count\":0,\"quote_count\":0},\"text\":\"@whippletom Ping @JustJenKing\",\"sentiment\":0},\"matching_rules\":[{\"id\":\"1557388137877635072\",\"tag\":\"\"}]}}\n",
      "\n",
      "]}\n",
      "\n"
     ]
    },
    {
     "data": {
      "text/plain": [
       "379.6401030666636"
      ]
     },
     "execution_count": 32,
     "metadata": {},
     "output_type": "execute_result"
    }
   ],
   "source": [
    "f.seek(0,os.SEEK_END)\n",
    "size=f.tell()\n",
    "print(size)\n",
    "f.seek(size-10000)\n",
    "while(f.tell()<size):\n",
    "    data=f.readline()\n",
    "    print(data)\n",
    "# f.readline()\n",
    "63201091459/166476331"
   ]
  },
  {
   "cell_type": "code",
   "execution_count": 5,
   "metadata": {},
   "outputs": [
    {
     "name": "stdout",
     "output_type": "stream",
     "text": [
      "4520394668\n",
      " DiCaprio\"},\"entity\":{\"id\":\"1110491889365454848\",\"name\":\"Taika Waititi\"}},{\"domain\":{\"id\":\"131\",\"name\":\"Unified Twitter Taxonomy\",\"description\":\"A taxonomy view into the Semantic Core knowledge graph\"},\"entity\":{\"id\":\"1110491889365454848\",\"name\":\"Taika Waititi\"}}],\"conversation_id\":\"291489018783363072\",\"created_at\":\"2022-08-10T19:28:52.000Z\",\"entities\":{\"mentions\":[{\"start\":0,\"end\":9,\"username\":\"bluboy43\",\"id\":\"1297204830231040005\"},{\"start\":10,\"end\":23,\"username\":\"TaikaWaititi\",\"id\":\"95610041\"}]},\"geo\":{\"place_id\":\"004ec16c62325149\"},\"lang\":\"en\",\"public_metrics\":{\"retweet_count\":0,\"reply_count\":0,\"like_count\":0,\"quote_count\":0},\"text\":\"@bluboy43 @TaikaWaititi People will still like it. You don't have to.\",\"sentiment\":0.18181818181818182},\"includes\":{\"places\":[{\"full_name\":\"Brisbane, Queensland\",\"geo\":{\"type\":\"Feature\",\"bbox\":[152.668522848,-27.767440994,153.31787024,-26.996844991],\"properties\":{}},\"id\":\"004ec16c62325149\"}]},\"matching_rules\":[{\"id\":\"1557388137877635072\",\"tag\":\"\"}]}},\n",
      "\n"
     ]
    }
   ],
   "source": [
    "h=open('twitter-place-data.json','r', encoding='utf-8')\n",
    "h.seek(0,os.SEEK_END)\n",
    "size=h.tell()\n",
    "print(size)\n",
    "h.seek(size-1000)\n",
    "data=h.read()\n",
    "print(data)\n",
    "# obj=ijson.items(h,'item')\n",
    "# i=0\n",
    "# for ob in obj:\n",
    "#     i+=1\n",
    "# print(i)\n"
   ]
  }
 ],
 "metadata": {
  "kernelspec": {
   "display_name": "Python 3",
   "language": "python",
   "name": "python3"
  },
  "language_info": {
   "codemirror_mode": {
    "name": "ipython",
    "version": 3
   },
   "file_extension": ".py",
   "mimetype": "text/x-python",
   "name": "python",
   "nbconvert_exporter": "python",
   "pygments_lexer": "ipython3",
   "version": "3.10.5"
  },
  "orig_nbformat": 4
 },
 "nbformat": 4,
 "nbformat_minor": 2
}
